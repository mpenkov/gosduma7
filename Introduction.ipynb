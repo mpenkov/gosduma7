{
 "cells": [
  {
   "cell_type": "markdown",
   "metadata": {},
   "source": [
    "# Introducing the gosduma7 Dataset"
   ]
  },
  {
   "cell_type": "code",
   "execution_count": 1,
   "metadata": {
    "collapsed": false
   },
   "outputs": [],
   "source": [
    "# Some initialization magic\n",
    "%matplotlib inline\n",
    "\n",
    "import matplotlib\n",
    "import numpy as np\n",
    "import matplotlib.pyplot as plt\n",
    "import collections\n",
    "\n",
    "# Let's load up the data\n",
    "import json\n",
    "\n",
    "with open(\"scrapyproject/results.json\") as fin:\n",
    "    tables = [json.loads(line) for line in fin]"
   ]
  },
  {
   "cell_type": "code",
   "execution_count": 2,
   "metadata": {
    "collapsed": false
   },
   "outputs": [
    {
     "data": {
      "text/plain": [
       "dict_keys(['area_ik_long', 'url', 'column_headers', 'area_ik', 'data_type', 'data', 'region', 'timestamp', 'row_headers', 'md5'])"
      ]
     },
     "execution_count": 2,
     "metadata": {},
     "output_type": "execute_result"
    }
   ],
   "source": [
    "# Here's what it looks like. \n",
    "# Each line corresponds to a tabled scraped from the Central Electoral Committee website.\n",
    "# Tables are dictionaries.\n",
    "tables[0].keys()"
   ]
  },
  {
   "cell_type": "code",
   "execution_count": 3,
   "metadata": {
    "collapsed": false
   },
   "outputs": [
    {
     "data": {
      "text/plain": [
       "'Кабардино-Балкарская Республика'"
      ]
     },
     "execution_count": 3,
     "metadata": {},
     "output_type": "execute_result"
    }
   ],
   "source": [
    "# region contains the name of the region.\n",
    "a_table = [t for t in tables if t[\"data_type\"] == \"federal\"][0]\n",
    "a_table[\"region\"]"
   ]
  },
  {
   "cell_type": "code",
   "execution_count": 4,
   "metadata": {
    "collapsed": false
   },
   "outputs": [
    {
     "data": {
      "text/plain": [
       "'ОИК №14'"
      ]
     },
     "execution_count": 4,
     "metadata": {},
     "output_type": "execute_result"
    }
   ],
   "source": [
    "# area_ik contains the number of the regional election committee (окружная избирательная коммиссия).\n",
    "a_table[\"area_ik\"]"
   ]
  },
  {
   "cell_type": "code",
   "execution_count": 5,
   "metadata": {
    "collapsed": false
   },
   "outputs": [
    {
     "data": {
      "text/plain": [
       "'Кабардино-Балкарская Республика - Кабардино-Балкарский'"
      ]
     },
     "execution_count": 5,
     "metadata": {},
     "output_type": "execute_result"
    }
   ],
   "source": [
    "# area_ik_long is the full name of the local election committee\n",
    "# for turnout data, this is the same as the committee number.\n",
    "a_table[\"area_ik_long\"]"
   ]
  },
  {
   "cell_type": "code",
   "execution_count": 6,
   "metadata": {
    "collapsed": false
   },
   "outputs": [
    {
     "data": {
      "text/plain": [
       "'http://www.vybory.izbirkom.ru/region/region/izbirkom?action=show&root=1000021&tvd=100100067795875&vrn=100100067795849&region=0&global=true&sub_region=0&prver=0&pronetvd=0&vibid=100100067795875&type=233'"
      ]
     },
     "execution_count": 6,
     "metadata": {},
     "output_type": "execute_result"
    }
   ],
   "source": [
    "# url corresponds to the URL from which the data was scraped from\n",
    "a_table[\"url\"]"
   ]
  },
  {
   "cell_type": "code",
   "execution_count": 7,
   "metadata": {
    "collapsed": false
   },
   "outputs": [
    {
     "data": {
      "text/plain": [
       "'2016-09-30T05:20:26.933261+00:00'"
      ]
     },
     "execution_count": 7,
     "metadata": {},
     "output_type": "execute_result"
    }
   ],
   "source": [
    "# the timestamp shows the date and time that the data was scraped\n",
    "a_table[\"timestamp\"]"
   ]
  },
  {
   "cell_type": "code",
   "execution_count": 8,
   "metadata": {
    "collapsed": false
   },
   "outputs": [],
   "source": [
    "# md5 corresponds to the MD5 hash of the HTML that was fetched from the URL at the time of scraping\n",
    "import requests\n",
    "import hashlib\n",
    "r = requests.get(a_table[\"url\"])\n",
    "assert hashlib.md5(r.content).hexdigest() == a_table[\"md5\"], \"MD5 mismatch, perhaps data is out of date?\""
   ]
  },
  {
   "cell_type": "code",
   "execution_count": 9,
   "metadata": {
    "collapsed": false
   },
   "outputs": [
    {
     "data": {
      "text/plain": [
       "{'federal', 'federal_uik', 'single', 'turnout', 'turnout_uik'}"
      ]
     },
     "execution_count": 9,
     "metadata": {},
     "output_type": "execute_result"
    }
   ],
   "source": [
    "# data_type refers to the type of scraped data. There are three types:\n",
    "#  * federal - data for the federal election\n",
    "#  * single - data for the single-mandate elections\n",
    "#  * turnout - turnout data at different points in time\n",
    "#  * federal_uik - data for the federal election, with individual polling station data\n",
    "#  * federal_uik - turnout_data at different points in time, with individual polling station data\n",
    "# In case you're wondering, UIK refers to участковая избирательная комиссия, or polling station.\n",
    "set(table[\"data_type\"] for table in tables)"
   ]
  },
  {
   "cell_type": "code",
   "execution_count": 10,
   "metadata": {
    "collapsed": false
   },
   "outputs": [
    {
     "name": "stdout",
     "output_type": "stream",
     "text": [
      "['ВСЕГО, в том числе', 'Баксанская', 'Баксанская городская', 'Зольская', 'Лескенская', 'Майская', 'Нальчикская городская', 'Прохладненская', 'Прохладненская городская', 'Терская', 'Урванская', 'Чегемская', 'Черекская', 'Эльбрусская']\n",
      "['10:00', '12:00', '15:00', '18:00']\n"
     ]
    }
   ],
   "source": [
    "# Each table, regardless of data_type, contains data in rows and columns.\n",
    "# The label for each row and column is contained in \"row_headers\" and \"column_headers\", respectively.\n",
    "# For turnout tables, the data looks like this:\n",
    "turnout_table = [t for t in tables if t[\"data_type\"] == \"turnout\"][0]\n",
    "print(turnout_table[\"row_headers\"])\n",
    "print(turnout_table[\"column_headers\"])"
   ]
  },
  {
   "cell_type": "code",
   "execution_count": 11,
   "metadata": {
    "collapsed": true
   },
   "outputs": [],
   "source": [
    "# The row headers in this case are the names of the local electoral committees (участковая избирательная коммиссия).\n",
    "# The column headers are the times at which turnout was reported."
   ]
  },
  {
   "cell_type": "code",
   "execution_count": 12,
   "metadata": {
    "collapsed": false
   },
   "outputs": [
    {
     "name": "stdout",
     "output_type": "stream",
     "text": [
      "['Число избирателей, внесенных в список избирателей на момент окончания голосования', 'Число избирательных бюллетеней, полученных участковой избирательной комиссией', 'Число избирательных бюллетеней, выданных избирателям, проголосовавшим досрочно', 'Число избирательных бюллетеней, выданных в помещении для голосования в день голосования', 'Число избирательных бюллетеней, выданных вне помещения для голосования в день голосования']\n",
      "['Сумма', 'Баксанская', 'Баксанская городская', 'Зольская', 'Лескенская']\n"
     ]
    }
   ],
   "source": [
    "# For federal tables, the data looks like this:\n",
    "federal_table = [t for t in tables if t[\"data_type\"] == \"federal\"][0]\n",
    "print(federal_table[\"row_headers\"][:5])  # snipped for brevity\n",
    "print(federal_table[\"column_headers\"][:5]) # snipped for brevity"
   ]
  },
  {
   "cell_type": "code",
   "execution_count": 13,
   "metadata": {
    "collapsed": false
   },
   "outputs": [
    {
     "name": "stdout",
     "output_type": "stream",
     "text": [
      "['1. ВСЕРОССИЙСКАЯ ПОЛИТИЧЕСКАЯ ПАРТИЯ \"РОДИНА\"', '2. Политическая партия КОММУНИСТИЧЕСКАЯ ПАРТИЯ КОММУНИСТЫ РОССИИ', '3. Политическая партия \"Российская партия пенсионеров за справедливость\"', '4. Всероссийская политическая партия \"ЕДИНАЯ РОССИЯ\"', '5. Политическая партия \"Российская экологическая партия \"Зеленые\"', '6. Политическая партия \"Гражданская Платформа\"']\n"
     ]
    }
   ],
   "source": [
    "# Rows correspond to a certain measurement, the columns correspond to the local electoral committees.\n",
    "# federal tables record votes for each of the 14 registered parties.\n",
    "# The list of parties is the same across the entire country.\n",
    "print(federal_table[\"row_headers\"][18:24])  # snipped for brevity"
   ]
  },
  {
   "cell_type": "code",
   "execution_count": 14,
   "metadata": {
    "collapsed": false
   },
   "outputs": [
    {
     "data": {
      "text/plain": [
       "['Жилов Хасан Русланович',\n",
       " 'Паштов Борис Султанович',\n",
       " 'Султанова Айшат Токболатовна',\n",
       " 'Токов Руслан Мухарбиевич',\n",
       " 'Цумаев Муса Мутушович',\n",
       " 'Шаваев Камал Хасанович']"
      ]
     },
     "execution_count": 14,
     "metadata": {},
     "output_type": "execute_result"
    }
   ],
   "source": [
    "# For single tables, the headers include the names of the candidates.\n",
    "# The names of the candidates differ between regional electoral committees.\n",
    "single_table = [t for t in tables if t[\"data_type\"] == \"single\"][0]\n",
    "single_table[\"row_headers\"][18:24]  # snipped for brevity"
   ]
  },
  {
   "cell_type": "code",
   "execution_count": 15,
   "metadata": {
    "collapsed": false
   },
   "outputs": [
    {
     "data": {
      "text/plain": [
       "['Сумма', 'УИК №226', 'УИК №227', 'УИК №228', 'УИК №229']"
      ]
     },
     "execution_count": 15,
     "metadata": {},
     "output_type": "execute_result"
    }
   ],
   "source": [
    "#\n",
    "# The *_iuk tables contain the same row headers as their regular counterparts.\n",
    "# They just show finer-grained information.\n",
    "#\n",
    "federal_uik_table = [t for t in tables if t[\"data_type\"] == \"federal_uik\"][0]\n",
    "assert federal_uik_table[\"row_headers\"] == federal_table[\"row_headers\"]\n",
    "federal_uik_table[\"column_headers\"][:5]  # snipped for brevity"
   ]
  },
  {
   "cell_type": "code",
   "execution_count": 16,
   "metadata": {
    "collapsed": false
   },
   "outputs": [
    {
     "data": {
      "text/plain": [
       "'Теучежская'"
      ]
     },
     "execution_count": 16,
     "metadata": {},
     "output_type": "execute_result"
    }
   ],
   "source": [
    "# They also include the territory electoral committe (территориальная избирательная комиссия)\n",
    "federal_uik_table[\"territory_ik\"]"
   ]
  },
  {
   "cell_type": "code",
   "execution_count": 17,
   "metadata": {
    "collapsed": false
   },
   "outputs": [
    {
     "data": {
      "text/plain": [
       "['ВСЕГО, в том числе', 'УИК №5501', 'УИК №5502', 'УИК №5503', 'УИК №5504']"
      ]
     },
     "execution_count": 17,
     "metadata": {},
     "output_type": "execute_result"
    }
   ],
   "source": [
    "turnout_uik_table = [t for t in tables if t[\"data_type\"] == \"turnout_uik\"][0]\n",
    "assert turnout_uik_table[\"column_headers\"] == turnout_table[\"column_headers\"]\n",
    "turnout_uik_table[\"row_headers\"][:5]  # snipped for brevity"
   ]
  },
  {
   "cell_type": "code",
   "execution_count": 18,
   "metadata": {
    "collapsed": false
   },
   "outputs": [
    {
     "data": {
      "text/plain": [
       "536867.0"
      ]
     },
     "execution_count": 18,
     "metadata": {},
     "output_type": "execute_result"
    }
   ],
   "source": [
    "# The data itself can be obtained by indexing into the data matrix.\n",
    "federal_table[\"data\"][0][0]"
   ]
  },
  {
   "cell_type": "markdown",
   "metadata": {},
   "source": [
    "# Checking the Dataset"
   ]
  },
  {
   "cell_type": "code",
   "execution_count": 19,
   "metadata": {
    "collapsed": false
   },
   "outputs": [
    {
     "data": {
      "text/plain": [
       "Counter({'federal': 225,\n",
       "         'federal_uik': 2820,\n",
       "         'single': 225,\n",
       "         'turnout': 225,\n",
       "         'turnout_uik': 2820})"
      ]
     },
     "execution_count": 19,
     "metadata": {},
     "output_type": "execute_result"
    }
   ],
   "source": [
    "# There are 225 electorates, make sure we have complete data for each\n",
    "counter = collections.Counter(table[\"data_type\"] for table in tables)\n",
    "counter"
   ]
  },
  {
   "cell_type": "code",
   "execution_count": 20,
   "metadata": {
    "collapsed": false
   },
   "outputs": [],
   "source": [
    "for data_type in [\"federal\", \"single\", \"turnout\"]:\n",
    "    assert counter[data_type] == 225, \"incorrect count for {!r}: expected 225, actual: {:d}\".format(data_type, counter[data_type])"
   ]
  },
  {
   "cell_type": "code",
   "execution_count": 21,
   "metadata": {
    "collapsed": true
   },
   "outputs": [],
   "source": [
    "# I was able to fetch data from 2820 TIK (territory electoral committees).\n",
    "assert counter[\"federal_uik\"] == counter[\"turnout_uik\"] == 2820"
   ]
  },
  {
   "cell_type": "code",
   "execution_count": 22,
   "metadata": {
    "collapsed": false
   },
   "outputs": [],
   "source": [
    "# Check that zeroth column contains the row total for federal and single tables\n",
    "for table in [t for t in tables if t[\"data_type\"] in (\"federal\", \"single\")]:\n",
    "    for i, _ in enumerate(table[\"row_headers\"]):\n",
    "        assert table[\"data\"][i][0] == sum(table[\"data\"][i][1:])"
   ]
  },
  {
   "cell_type": "markdown",
   "metadata": {},
   "source": [
    "# Summary"
   ]
  },
  {
   "cell_type": "code",
   "execution_count": 23,
   "metadata": {
    "collapsed": false
   },
   "outputs": [
    {
     "name": "stdout",
     "output_type": "stream",
     "text": [
      "region|oik|tik|uik\n",
      "Алтайский край|4|74|1882\n",
      "Амурская область|1|29|765\n",
      "Архангельская область|2|32|942\n",
      "Астраханская область|1|16|618\n",
      "Белгородская область|2|22|1251\n",
      "Брянская область|2|35|1125\n",
      "Владимирская область|2|23|982\n",
      "Волгоградская область|4|47|1542\n",
      "Вологодская область|2|28|1006\n",
      "Воронежская область|4|39|1719\n",
      "Еврейская автономная область|1|6|169\n",
      "Забайкальский край|2|39|959\n",
      "Ивановская область|2|31|800\n",
      "Иркутская область|4|47|1956\n",
      "Кабардино-Балкарская Республика|1|13|354\n",
      "Калининградская область|2|25|0\n",
      "Калужская область|2|28|732\n",
      "Камчатский край|1|14|301\n",
      "Карачаево-Черкесская Республика|1|12|249\n",
      "Кемеровская область|4|49|1761\n",
      "Кировская область|2|48|1183\n",
      "Костромская область|1|30|600\n",
      "Краснодарский край|8|60|2750\n",
      "Красноярский край|4|72|2196\n",
      "Курганская область|1|27|992\n",
      "Курская область|2|36|1161\n",
      "Ленинградская область|3|19|976\n",
      "Липецкая область|2|25|915\n",
      "Магаданская область|1|10|107\n",
      "Московская область|11|70|3625\n",
      "Мурманская область|1|17|581\n",
      "Ненецкий автономный округ|1|2|51\n",
      "Нижегородская область|5|62|2455\n",
      "Новгородская область|1|22|544\n",
      "Новосибирская область|4|47|2031\n",
      "Омская область|3|39|1808\n",
      "Оренбургская область|3|47|1766\n",
      "Орловская область|1|30|736\n",
      "Пензенская область|2|33|1105\n",
      "Пермский край|4|56|1838\n",
      "Приморский край|3|38|1488\n",
      "Псковская область|1|26|639\n",
      "Республика Адыгея (Адыгея)|1|9|263\n",
      "Республика Алтай|1|11|242\n",
      "Республика Башкортостан|6|71|3426\n",
      "Республика Бурятия|1|25|839\n",
      "Республика Дагестан|3|54|1914\n",
      "Республика Ингушетия|1|8|136\n",
      "Республика Калмыкия|1|14|251\n",
      "Республика Карелия|1|19|469\n",
      "Республика Коми|1|21|669\n",
      "Республика Крым|3|29|0\n",
      "Республика Марий Эл|1|18|531\n",
      "Республика Мордовия|1|25|803\n",
      "Республика Саха (Якутия)|1|35|811\n",
      "Республика Северная Осетия - Алания|1|10|378\n",
      "Республика Татарстан (Татарстан)|6|65|2824\n",
      "Республика Тыва|1|19|183\n",
      "Республика Хакасия|1|13|393\n",
      "Ростовская область|7|64|2632\n",
      "Рязанская область|2|33|1028\n",
      "Самарская область|5|51|1776\n",
      "Саратовская область|4|49|1890\n",
      "Сахалинская область|1|20|473\n",
      "Свердловская область|7|81|2538\n",
      "Смоленская область|2|30|809\n",
      "Ставропольский край|4|37|1288\n",
      "Тамбовская область|2|33|930\n",
      "Тверская область|2|47|1217\n",
      "Томская область|2|24|791\n",
      "Тульская область|2|30|1136\n",
      "Тюменская область|2|29|1133\n",
      "Удмуртская Республика|2|35|1203\n",
      "Ульяновская область|2|29|987\n",
      "Хабаровский край|2|24|824\n",
      "Ханты-Мансийский автономный округ - Югра|2|23|0\n",
      "Челябинская область|5|51|2298\n",
      "Чеченская Республика|1|20|0\n",
      "Чувашская Республика - Чувашия|2|29|1184\n",
      "Чукотский автономный округ|1|7|55\n",
      "Ямало-Ненецкий автономный округ|1|13|227\n",
      "Ярославская область|2|28|0\n",
      "город Москва|15|127|3620\n",
      "город Санкт-Петербург|8|31|2006\n",
      "город Севастополь|1|4|0\n"
     ]
    }
   ],
   "source": [
    "# The number of OIK (area electoral committees), TIK (territory electoral committees),\n",
    "# and UIK (spot electoral committees) per region\n",
    "import csv\n",
    "import sys\n",
    "\n",
    "writer = csv.writer(sys.stdout, delimiter=\"|\")\n",
    "writer.writerow([\"region\", \"oik\", \"tik\", \"uik\"])\n",
    "\n",
    "federal = [t for t in tables if t[\"data_type\"] == \"federal\"]\n",
    "federal_uik = [t for t in tables if t[\"data_type\"] == \"federal_uik\"]\n",
    "oik_counter = collections.Counter(t[\"region\"] for t in federal)\n",
    "\n",
    "for region, num_oik in sorted(oik_counter.items()):\n",
    "    region_tables = [t for t in federal if t[\"region\"] == region]\n",
    "    num_tik = sum([(len(t[\"column_headers\"]) - 1) for t in region_tables])\n",
    "    \n",
    "    region_tables_uik = [t for t in federal_uik if t[\"region\"] == region]\n",
    "    num_uik = sum([(len(t[\"column_headers\"]) - 1) for t in region_tables_uik])\n",
    "    \n",
    "    writer.writerow([region, num_oik, num_tik, num_uik])"
   ]
  }
 ],
 "metadata": {
  "kernelspec": {
   "display_name": "Python 3",
   "language": "python",
   "name": "python3"
  },
  "language_info": {
   "codemirror_mode": {
    "name": "ipython",
    "version": 3
   },
   "file_extension": ".py",
   "mimetype": "text/x-python",
   "name": "python",
   "nbconvert_exporter": "python",
   "pygments_lexer": "ipython3",
   "version": "3.5.1"
  }
 },
 "nbformat": 4,
 "nbformat_minor": 0
}

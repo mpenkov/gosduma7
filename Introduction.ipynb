{
 "cells": [
  {
   "cell_type": "markdown",
   "metadata": {},
   "source": [
    "# Introducing the gosduma7 Dataset"
   ]
  },
  {
   "cell_type": "code",
   "execution_count": 21,
   "metadata": {
    "collapsed": false
   },
   "outputs": [],
   "source": [
    "# Some initialization magic\n",
    "%matplotlib inline\n",
    "\n",
    "import matplotlib\n",
    "import numpy as np\n",
    "import matplotlib.pyplot as plt\n",
    "import collections\n",
    "\n",
    "# Let's load up the data\n",
    "import json\n",
    "\n",
    "with open(\"scrapyproject/results.json\") as fin:\n",
    "    tables = [json.loads(line) for line in fin]"
   ]
  },
  {
   "cell_type": "code",
   "execution_count": 22,
   "metadata": {
    "collapsed": false
   },
   "outputs": [
    {
     "data": {
      "text/plain": [
       "dict_keys(['area_ik_long', 'timestamp', 'column_headers', 'url', 'region', 'md5', 'data_type', 'area_ik', 'data', 'row_headers'])"
      ]
     },
     "execution_count": 22,
     "metadata": {},
     "output_type": "execute_result"
    }
   ],
   "source": [
    "# Here's what it looks like. \n",
    "# Each line corresponds to a tabled scraped from the Central Electoral Committee website.\n",
    "# Tables are dictionaries.\n",
    "tables[0].keys()"
   ]
  },
  {
   "cell_type": "code",
   "execution_count": 3,
   "metadata": {
    "collapsed": false
   },
   "outputs": [
    {
     "data": {
      "text/plain": [
       "'Республика Калмыкия'"
      ]
     },
     "execution_count": 3,
     "metadata": {},
     "output_type": "execute_result"
    }
   ],
   "source": [
    "# region contains the name of the region .\n",
    "a_table = [t for t in tables if t[\"data_type\"] == \"federal\"][0]\n",
    "a_table[\"region\"]"
   ]
  },
  {
   "cell_type": "code",
   "execution_count": 4,
   "metadata": {
    "collapsed": false
   },
   "outputs": [
    {
     "data": {
      "text/plain": [
       "'ОИК №15'"
      ]
     },
     "execution_count": 4,
     "metadata": {},
     "output_type": "execute_result"
    }
   ],
   "source": [
    "# area_ik contains the number of the regional election committee (окружная избирательная коммиссия).\n",
    "a_table[\"area_ik\"]"
   ]
  },
  {
   "cell_type": "code",
   "execution_count": 5,
   "metadata": {
    "collapsed": false
   },
   "outputs": [
    {
     "data": {
      "text/plain": [
       "'Республика Калмыкия - Калмыцкий'"
      ]
     },
     "execution_count": 5,
     "metadata": {},
     "output_type": "execute_result"
    }
   ],
   "source": [
    "# committee_name is the full name of the local election committee\n",
    "# for turnout data, this is the same as the committee number.\n",
    "a_table[\"area_ik_name\"]"
   ]
  },
  {
   "cell_type": "code",
   "execution_count": 6,
   "metadata": {
    "collapsed": false
   },
   "outputs": [
    {
     "data": {
      "text/plain": [
       "'http://www.vybory.izbirkom.ru/region/region/izbirkom?action=show&root=1000023&tvd=100100067795877&vrn=100100067795849&region=0&global=true&sub_region=0&prver=0&pronetvd=0&vibid=100100067795877&type=233'"
      ]
     },
     "execution_count": 6,
     "metadata": {},
     "output_type": "execute_result"
    }
   ],
   "source": [
    "# url corresponds to the URL from which the data was scraped from\n",
    "a_table[\"url\"]"
   ]
  },
  {
   "cell_type": "code",
   "execution_count": 7,
   "metadata": {
    "collapsed": false
   },
   "outputs": [
    {
     "data": {
      "text/plain": [
       "'2016-09-29T06:36:28.944704+00:00'"
      ]
     },
     "execution_count": 7,
     "metadata": {},
     "output_type": "execute_result"
    }
   ],
   "source": [
    "# the timestamp shows the date and time that the data was scraped\n",
    "a_table[\"timestamp\"]"
   ]
  },
  {
   "cell_type": "code",
   "execution_count": 8,
   "metadata": {
    "collapsed": false
   },
   "outputs": [],
   "source": [
    "# md5 corresponds to the MD5 hash of the HTML that was fetched from the URL at the time of scraping\n",
    "import requests\n",
    "import hashlib\n",
    "r = requests.get(a_table[\"url\"])\n",
    "assert hashlib.md5(r.content).hexdigest() == a_table[\"md5\"], \"MD5 mismatch, perhaps data is out of date?\""
   ]
  },
  {
   "cell_type": "code",
   "execution_count": 9,
   "metadata": {
    "collapsed": false
   },
   "outputs": [
    {
     "data": {
      "text/plain": [
       "{'federal', 'federal_uik', 'single', 'turnout', 'turnout_uik'}"
      ]
     },
     "execution_count": 9,
     "metadata": {},
     "output_type": "execute_result"
    }
   ],
   "source": [
    "# data_type refers to the type of scraped data. There are three types:\n",
    "#  * federal - data for the federal election\n",
    "#  * single - data for the single-mandate elections\n",
    "#  * turnout - turnout data at different points in time\n",
    "#  * federal_uik - data for the federal election, with individual polling station data\n",
    "#  * federal_uik - turnout_data at different points in time, with individual polling station data\n",
    "set(table[\"data_type\"] for table in tables)"
   ]
  },
  {
   "cell_type": "code",
   "execution_count": 10,
   "metadata": {
    "collapsed": false
   },
   "outputs": [
    {
     "name": "stdout",
     "output_type": "stream",
     "text": [
      "['ВСЕГО, в том числе', 'Городовиковская', 'Ики-Бурульская', 'Лаганская', 'Кетченеровская', 'Малодербетовская', 'Октябрьская', 'Приютненская', 'Сарпинская', 'Целинная', 'Черноземельская', 'Элистинская городская', 'Юстинская', 'Яшалтинская', 'Яшкульская']\n",
      "['10:00', '12:00', '15:00', '18:00']\n"
     ]
    }
   ],
   "source": [
    "# Each table, regardless of data_type, contains data in rows and columns.\n",
    "# The label for each row and column is contained in \"row_headers\" and \"column_headers\", respectively.\n",
    "# For turnout tables, the data looks like this:\n",
    "turnout_table = [t for t in tables if t[\"data_type\"] == \"turnout\"][0]\n",
    "print(turnout_table[\"row_headers\"])\n",
    "print(turnout_table[\"column_headers\"])"
   ]
  },
  {
   "cell_type": "code",
   "execution_count": 11,
   "metadata": {
    "collapsed": true
   },
   "outputs": [],
   "source": [
    "# The row headers in this case are the names of the local electoral committees (участковая избирательная коммиссия).\n",
    "# The column headers are the times at which turnout was reported."
   ]
  },
  {
   "cell_type": "code",
   "execution_count": 12,
   "metadata": {
    "collapsed": false
   },
   "outputs": [
    {
     "name": "stdout",
     "output_type": "stream",
     "text": [
      "['Число избирателей, внесенных в список избирателей на момент окончания голосования', 'Число избирательных бюллетеней, полученных участковой избирательной комиссией', 'Число избирательных бюллетеней, выданных избирателям, проголосовавшим досрочно', 'Число избирательных бюллетеней, выданных в помещении для голосования в день голосования', 'Число избирательных бюллетеней, выданных вне помещения для голосования в день голосования']\n",
      "['Сумма', 'Городовиковская', 'Ики-Бурульская', 'Лаганская', 'Кетченеровская']\n"
     ]
    }
   ],
   "source": [
    "# For federal tables, the data looks like this:\n",
    "federal_table = [t for t in tables if t[\"data_type\"] == \"federal\"][0]\n",
    "print(federal_table[\"row_headers\"][:5])  # snipped for brevity\n",
    "print(federal_table[\"column_headers\"][:5]) # snipped for brevity"
   ]
  },
  {
   "cell_type": "code",
   "execution_count": 13,
   "metadata": {
    "collapsed": false
   },
   "outputs": [
    {
     "name": "stdout",
     "output_type": "stream",
     "text": [
      "['1. ВСЕРОССИЙСКАЯ ПОЛИТИЧЕСКАЯ ПАРТИЯ \"РОДИНА\"', '2. Политическая партия КОММУНИСТИЧЕСКАЯ ПАРТИЯ КОММУНИСТЫ РОССИИ', '3. Политическая партия \"Российская партия пенсионеров за справедливость\"', '4. Всероссийская политическая партия \"ЕДИНАЯ РОССИЯ\"', '5. Политическая партия \"Российская экологическая партия \"Зеленые\"', '6. Политическая партия \"Гражданская Платформа\"']\n"
     ]
    }
   ],
   "source": [
    "# Rows correspond to a certain measurement, the columns correspond to the local electoral committees.\n",
    "# federal tables record votes for each of the 14 registered parties.\n",
    "# The list of parties is the same across the entire country.\n",
    "print(federal_table[\"row_headers\"][18:24])  # snipped for brevity"
   ]
  },
  {
   "cell_type": "code",
   "execution_count": 14,
   "metadata": {
    "collapsed": false
   },
   "outputs": [
    {
     "data": {
      "text/plain": [
       "['Атеев Семен Николаевич',\n",
       " 'Балаклеец Людмила Ивановна',\n",
       " 'Бессарабов Андрей Анатольевич',\n",
       " 'Болдырев Игорь Владимирович',\n",
       " 'Габунщин Сергей Валериевич',\n",
       " 'Захарченко Анатолий Александрович']"
      ]
     },
     "execution_count": 14,
     "metadata": {},
     "output_type": "execute_result"
    }
   ],
   "source": [
    "# For single tables, the headers include the names of the candidates.\n",
    "# The names of the candidates differ between regional electoral committees.\n",
    "single_table = [t for t in tables if t[\"data_type\"] == \"single\"][0]\n",
    "single_table[\"row_headers\"][18:24]  # snipped for brevity"
   ]
  },
  {
   "cell_type": "code",
   "execution_count": 15,
   "metadata": {
    "collapsed": false
   },
   "outputs": [
    {
     "data": {
      "text/plain": [
       "['Сумма', 'УИК №137', 'УИК №138', 'УИК №139', 'УИК №140']"
      ]
     },
     "execution_count": 15,
     "metadata": {},
     "output_type": "execute_result"
    }
   ],
   "source": [
    "#\n",
    "# The *_iuk tables contain the same row headers as their regular counterparts.\n",
    "# They just show finer-grained information.\n",
    "#\n",
    "federal_uik_table = [t for t in tables if t[\"data_type\"] == \"federal_uik\"][0]\n",
    "assert federal_uik_table[\"row_headers\"] == federal_table[\"row_headers\"]\n",
    "federal_uik_table[\"column_headers\"][:5]  # snipped for brevity"
   ]
  },
  {
   "cell_type": "code",
   "execution_count": 16,
   "metadata": {
    "collapsed": false
   },
   "outputs": [
    {
     "data": {
      "text/plain": [
       "['ВСЕГО, в том числе', 'УИК №820', 'УИК №821', 'УИК №822', 'УИК №823']"
      ]
     },
     "execution_count": 16,
     "metadata": {},
     "output_type": "execute_result"
    }
   ],
   "source": [
    "turnout_uik_table = [t for t in tables if t[\"data_type\"] == \"turnout_uik\"][0]\n",
    "assert turnout_uik_table[\"column_headers\"] == turnout_table[\"column_headers\"]\n",
    "turnout_uik_table[\"row_headers\"][:5]  # snipped for brevity"
   ]
  },
  {
   "cell_type": "code",
   "execution_count": 17,
   "metadata": {
    "collapsed": false
   },
   "outputs": [
    {
     "data": {
      "text/plain": [
       "211637.0"
      ]
     },
     "execution_count": 17,
     "metadata": {},
     "output_type": "execute_result"
    }
   ],
   "source": [
    "# The data itself can be obtained by indexing into the data matrix.\n",
    "federal_table[\"data\"][0][0]"
   ]
  },
  {
   "cell_type": "markdown",
   "metadata": {},
   "source": [
    "# Checking the Dataset"
   ]
  },
  {
   "cell_type": "code",
   "execution_count": 18,
   "metadata": {
    "collapsed": false
   },
   "outputs": [
    {
     "data": {
      "text/plain": [
       "Counter({'federal': 225,\n",
       "         'federal_uik': 225,\n",
       "         'single': 225,\n",
       "         'turnout': 225,\n",
       "         'turnout_uik': 225})"
      ]
     },
     "execution_count": 18,
     "metadata": {},
     "output_type": "execute_result"
    }
   ],
   "source": [
    "# There are 225 electorates, make sure we have complete data for each\n",
    "counter = collections.Counter(table[\"data_type\"] for table in tables)\n",
    "counter"
   ]
  },
  {
   "cell_type": "code",
   "execution_count": 19,
   "metadata": {
    "collapsed": false
   },
   "outputs": [],
   "source": [
    "for data_type in [\"federal\", \"single\", \"turnout\", \"federal_uik\", \"turnout_uik\"]:\n",
    "    assert counter[data_type] == 225, \"incorrect count for {!r}: expected 225, actual: {:d}\".format(data_type, counter[data_type])"
   ]
  },
  {
   "cell_type": "code",
   "execution_count": 20,
   "metadata": {
    "collapsed": false
   },
   "outputs": [],
   "source": [
    "# Check that zeroth column contains the row total for federal and single tables\n",
    "for table in [t for t in tables if t[\"data_type\"] in (\"federal\", \"single\")]:\n",
    "    for i, _ in enumerate(table[\"row_headers\"]):\n",
    "        assert table[\"data\"][i][0] == sum(table[\"data\"][i][1:])"
   ]
  },
  {
   "cell_type": "code",
   "execution_count": null,
   "metadata": {
    "collapsed": true
   },
   "outputs": [],
   "source": []
  }
 ],
 "metadata": {
  "kernelspec": {
   "display_name": "Python 3",
   "language": "python",
   "name": "python3"
  },
  "language_info": {
   "codemirror_mode": {
    "name": "ipython",
    "version": 3
   },
   "file_extension": ".py",
   "mimetype": "text/x-python",
   "name": "python",
   "nbconvert_exporter": "python",
   "pygments_lexer": "ipython3",
   "version": "3.5.1"
  }
 },
 "nbformat": 4,
 "nbformat_minor": 0
}
